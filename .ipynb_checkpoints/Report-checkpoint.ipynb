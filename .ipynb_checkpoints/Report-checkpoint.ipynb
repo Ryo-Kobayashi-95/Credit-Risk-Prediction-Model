{
 "cells": [
  {
   "cell_type": "markdown",
   "id": "7ae18a3c-c5f2-4988-b028-b30a8253d815",
   "metadata": {},
   "source": [
    "# **Report on Credit Default Risk Assessment Model**"
   ]
  },
  {
   "cell_type": "markdown",
   "id": "2509023b-035c-4cde-8831-d01fb810e620",
   "metadata": {},
   "source": [
    "## ***Introduction***"
   ]
  },
  {
   "cell_type": "markdown",
   "id": "9e82df04-c394-4c01-adfb-c8d253a27b84",
   "metadata": {
    "tags": []
   },
   "source": [
    "## ***Imports***"
   ]
  },
  {
   "cell_type": "code",
   "execution_count": 2,
   "id": "2d665e67-959b-4695-9850-7ff7a183f5d7",
   "metadata": {
    "tags": []
   },
   "outputs": [],
   "source": [
    "import os\n",
    "\n",
    "%matplotlib inline\n",
    "import string\n",
    "import sys\n",
    "\n",
    "import matplotlib.pyplot as plt\n",
    "import numpy as np\n",
    "import pandas as pd\n",
    "\n",
    "import os\n",
    "import re\n",
    "import sys\n",
    "from hashlib import sha1\n",
    "\n",
    "import matplotlib.pyplot as plt\n",
    "import numpy as np\n",
    "import pandas as pd\n",
    "# import tests_hw5\n",
    "from sklearn import datasets\n",
    "from sklearn.compose import make_column_transformer\n",
    "from sklearn.dummy import DummyClassifier, DummyRegressor\n",
    "from sklearn.ensemble import RandomForestClassifier, RandomForestRegressor\n",
    "from sklearn.linear_model import LogisticRegression, Ridge\n",
    "from sklearn.metrics import (\n",
    "    accuracy_score,\n",
    "    classification_report,\n",
    "    confusion_matrix,\n",
    "    f1_score,\n",
    "    make_scorer,\n",
    "    precision_score,\n",
    "    recall_score,\n",
    ")\n",
    "from sklearn.model_selection import (\n",
    "    GridSearchCV,\n",
    "    RandomizedSearchCV,\n",
    "    cross_val_score,\n",
    "    cross_validate,\n",
    "    train_test_split,\n",
    ")\n",
    "from sklearn.pipeline import Pipeline, make_pipeline\n",
    "from sklearn.preprocessing import OneHotEncoder, OrdinalEncoder, StandardScaler"
   ]
  },
  {
   "cell_type": "code",
   "execution_count": null,
   "id": "c0d39f71-17b2-41e4-a48e-78e066f90835",
   "metadata": {},
   "outputs": [],
   "source": []
  }
 ],
 "metadata": {
  "kernelspec": {
   "display_name": "Python [conda env:cpsc330]",
   "language": "python",
   "name": "conda-env-cpsc330-py"
  },
  "language_info": {
   "codemirror_mode": {
    "name": "ipython",
    "version": 3
   },
   "file_extension": ".py",
   "mimetype": "text/x-python",
   "name": "python",
   "nbconvert_exporter": "python",
   "pygments_lexer": "ipython3",
   "version": "3.10.11"
  }
 },
 "nbformat": 4,
 "nbformat_minor": 5
}
